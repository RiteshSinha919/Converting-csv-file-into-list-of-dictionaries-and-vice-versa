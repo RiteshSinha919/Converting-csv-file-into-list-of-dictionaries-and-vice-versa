{
 "cells": [
  {
   "cell_type": "code",
   "execution_count": null,
   "id": "ee1deca2",
   "metadata": {},
   "outputs": [],
   "source": [
    "import os"
   ]
  },
  {
   "cell_type": "code",
   "execution_count": null,
   "id": "328df814",
   "metadata": {},
   "outputs": [],
   "source": [
    "#convert header of the dataset into list\n",
    "def list_header(header):\n",
    "  return header.strip().split(',')"
   ]
  },
  {
   "cell_type": "code",
   "execution_count": null,
   "id": "a3b264fc",
   "metadata": {},
   "outputs": [],
   "source": [
    "#convert values of the dataset into list\n",
    "def list_value(value):\n",
    "  result=[]\n",
    "  for x in value.strip().split(','):\n",
    "    if x ==' ':\n",
    "      result.append(0);\n",
    "    else:\n",
    "      result.append(x);\n",
    "  return result"
   ]
  },
  {
   "cell_type": "code",
   "execution_count": null,
   "id": "48f32393",
   "metadata": {},
   "outputs": [],
   "source": [
    "#create dictionary from the list of header and values of dataset\n",
    "def new_dict(header,value):\n",
    "  result={};\n",
    "  for a,b in zip(header,value):\n",
    "    result[a]=b;\n",
    "  return result;"
   ]
  },
  {
   "cell_type": "code",
   "execution_count": null,
   "id": "e0307715",
   "metadata": {},
   "outputs": [],
   "source": [
    "#read from file and convert it into a list of dictionaries\n",
    "def csv_read(file):\n",
    "  result=[];\n",
    "  with open(file,'r') as f:\n",
    "    x = f.readlines();\n",
    "    header = list_header(x[0]);\n",
    "    for a in x[1:]:\n",
    "      value = list_value(a)\n",
    "      dict1 = new_dict(header,value);\n",
    "      result.append(dict1);\n",
    "  return result;"
   ]
  },
  {
   "cell_type": "code",
   "execution_count": null,
   "id": "4d68a05b",
   "metadata": {},
   "outputs": [],
   "source": [
    "#convert a list of dictionaries into comma seperated values and write them into a new file\n",
    "def csv_write(dict,file):\n",
    "  with open(file,'w') as f:\n",
    "    if len(dict) == 0:\n",
    "      return \"No item present in list\"\n",
    "    keys=list(dict[0].keys());\n",
    "    f.write(','.join(keys) + '\\n');\n",
    "    for x in dict:\n",
    "      values =[]\n",
    "      for y in keys:\n",
    "        values.append(x.get(y))\n",
    "      f.write(','.join(values) + '\\n')"
   ]
  },
  {
   "cell_type": "code",
   "execution_count": null,
   "id": "abe4805d",
   "metadata": {},
   "outputs": [],
   "source": [
    "read = csv_read('Stores.csv')\n",
    "read"
   ]
  },
  {
   "cell_type": "code",
   "execution_count": null,
   "id": "c5cc86cb",
   "metadata": {},
   "outputs": [],
   "source": [
    "os.listdir()"
   ]
  },
  {
   "cell_type": "code",
   "execution_count": null,
   "id": "201b973a",
   "metadata": {},
   "outputs": [],
   "source": [
    "#The tally will be less by 1 as the header is in each dictionary of list \n",
    "#and will be added again when converted to the csv file again \n",
    "len(read)"
   ]
  },
  {
   "cell_type": "code",
   "execution_count": null,
   "id": "099e85a7",
   "metadata": {},
   "outputs": [],
   "source": [
    "write = csv_write(file,'newStores.csv')\n",
    "write"
   ]
  },
  {
   "cell_type": "code",
   "execution_count": null,
   "id": "f1904a60",
   "metadata": {},
   "outputs": [],
   "source": [
    "os.listdir()"
   ]
  },
  {
   "cell_type": "code",
   "execution_count": null,
   "id": "e02bcc73",
   "metadata": {},
   "outputs": [],
   "source": []
  },
  {
   "cell_type": "code",
   "execution_count": null,
   "id": "218a4232",
   "metadata": {},
   "outputs": [],
   "source": []
  }
 ],
 "metadata": {
  "kernelspec": {
   "display_name": "Python 3 (ipykernel)",
   "language": "python",
   "name": "python3"
  },
  "language_info": {
   "codemirror_mode": {
    "name": "ipython",
    "version": 3
   },
   "file_extension": ".py",
   "mimetype": "text/x-python",
   "name": "python",
   "nbconvert_exporter": "python",
   "pygments_lexer": "ipython3",
   "version": "3.9.12"
  }
 },
 "nbformat": 4,
 "nbformat_minor": 5
}
